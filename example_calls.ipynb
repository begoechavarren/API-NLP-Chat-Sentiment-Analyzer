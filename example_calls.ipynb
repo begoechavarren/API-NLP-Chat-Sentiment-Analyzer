{
 "cells": [
  {
   "cell_type": "code",
   "execution_count": null,
   "metadata": {},
   "outputs": [],
   "source": [
    "# https://api-nlp-bego.herokuapp.com/user/7/recommend"
   ]
  },
  {
   "cell_type": "code",
   "execution_count": 1,
   "metadata": {},
   "outputs": [],
   "source": [
    "import requests"
   ]
  },
  {
   "cell_type": "code",
   "execution_count": 2,
   "metadata": {},
   "outputs": [
    {
     "data": {
      "text/plain": [
       "'{\"inserted_doc\": \"5ded48303665879b2be25346\"}'"
      ]
     },
     "execution_count": 2,
     "metadata": {},
     "output_type": "execute_result"
    }
   ],
   "source": [
    "# add user\n",
    "url='http://localhost:8080/user/create'\n",
    "params={'username':'Bego_Echavarren'}\n",
    "requests.post(url, data=params).text"
   ]
  },
  {
   "cell_type": "code",
   "execution_count": 3,
   "metadata": {},
   "outputs": [
    {
     "name": "stdout",
     "output_type": "stream",
     "text": [
      "{'7': 0.10504514628777804}\n"
     ]
    }
   ],
   "source": [
    "# get recommendation\n",
    "data = requests.get('http://localhost:8080/user/1/recommend').json()\n",
    "print(data)"
   ]
  },
  {
   "cell_type": "code",
   "execution_count": 4,
   "metadata": {},
   "outputs": [
    {
     "data": {
      "text/plain": [
       "'{\"inserted_doc\": \"5ded48313665879b2be25347\"}'"
      ]
     },
     "execution_count": 4,
     "metadata": {},
     "output_type": "execute_result"
    }
   ],
   "source": [
    "# add chat\n",
    "import requests\n",
    "\n",
    "url='http://localhost:8080/chat/create'\n",
    "params= {\"idUser\":9,\"userName\":\"Carlos Puerto\",\"idMessage\":0,\"idChat\":0,\"datetime\":\"2019-12-01 10:15:41\",\"text\":\"I am so angry right now\"}\n",
    "requests.post(url, data=params).text"
   ]
  },
  {
   "cell_type": "code",
   "execution_count": null,
   "metadata": {},
   "outputs": [],
   "source": [
    "# add many chats\n",
    "\"\"\"import json\n",
    "\n",
    "def insert_conversations(path):\n",
    "    with open(path) as json_file:\n",
    "        chats = json.load(json_file)\n",
    "    url='http://localhost:8080/chat/create'\n",
    "    for chat in chats:\n",
    "        requests.post(url, data=chat).text\n",
    "    return \"Inserted docs\"\n",
    "    \n",
    "insert_conversations('chats.json')\"\"\""
   ]
  },
  {
   "cell_type": "code",
   "execution_count": 5,
   "metadata": {},
   "outputs": [
    {
     "name": "stdout",
     "output_type": "stream",
     "text": [
      "{'neg': 0.203, 'neu': 0.685, 'pos': 0.112, 'compound': -0.9078}\n"
     ]
    }
   ],
   "source": [
    "# get sentiment\n",
    "data = requests.get('http://localhost:8080/chat/1/get_sentiment').json()\n",
    "print(data)\n"
   ]
  },
  {
   "cell_type": "code",
   "execution_count": null,
   "metadata": {},
   "outputs": [],
   "source": []
  }
 ],
 "metadata": {
  "kernelspec": {
   "display_name": "Python 3",
   "language": "python",
   "name": "python3"
  },
  "language_info": {
   "codemirror_mode": {
    "name": "ipython",
    "version": 3
   },
   "file_extension": ".py",
   "mimetype": "text/x-python",
   "name": "python",
   "nbconvert_exporter": "python",
   "pygments_lexer": "ipython3",
   "version": "3.7.0"
  }
 },
 "nbformat": 4,
 "nbformat_minor": 2
}
